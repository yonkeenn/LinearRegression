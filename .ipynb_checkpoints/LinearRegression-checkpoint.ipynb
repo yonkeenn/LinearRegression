{
 "cells": [
  {
   "cell_type": "code",
   "execution_count": 1,
   "id": "bfc94b6e-f802-4043-bfcc-883a162de96e",
   "metadata": {},
   "outputs": [],
   "source": [
    "import pandas as pd\n",
    "import numpy as np\n",
    "\n",
    "import matplotlib.pyplot as plt\n",
    "import seaborn as sns\n",
    "\n",
    "from scipy import stats\n",
    "from scipy.stats import norm, skew, boxcox\n",
    "\n",
    "from sklearn.model_selection import train_test_split, GridSearchCV\n",
    "from sklearn.preprocessing import StandardScaler, RobustScaler\n",
    "from sklearn.linear_model import LinearRegression, Ridge, Lasso, ElasticNet\n",
    "from sklearn import metrics\n",
    "\n",
    "\n",
    "#Warning \n",
    "import warnings\n",
    "warnings.filterwarnings('ignore')\n"
   ]
  },
  {
   "cell_type": "markdown",
   "id": "ce4da344-0554-4cde-a571-1cf0d8135e89",
   "metadata": {},
   "source": [
    "# Linear Regression Model \n",
    "\n",
    "## Intro:\n",
    "\n",
    "Hello guys, I will try to explain shortly about linear regression models. As far as there is many documentation of machine learning, here we are going to discuss about supervised model which has two types. linear regression is focused into numerical data and on the other hand, classification is related to categorical data.\n",
    "\n",
    "Thinking in machine learning, it is to believe how machine learns. As [Autor] mention in his book, Machine learning is a subset of AI. First of all, we have to think how humans learn. There are two types of learning: 1-by logic and 2-by experience.\n"
   ]
  },
  {
   "cell_type": "code",
   "execution_count": 3,
   "id": "4dfe8dbe-4dec-4f48-8878-309cfacc7bfc",
   "metadata": {},
   "outputs": [],
   "source": [
    "# Point 0: How to explore the data?"
   ]
  },
  {
   "cell_type": "code",
   "execution_count": null,
   "id": "0a7d3ced-1a8a-448c-ace7-1c8130a7e2b3",
   "metadata": {},
   "outputs": [],
   "source": []
  },
  {
   "cell_type": "markdown",
   "id": "e652fa62-503a-432e-82c5-1c2a1197f960",
   "metadata": {},
   "source": [
    "# Point 1: How to define the model? \n",
    "\n",
    "A linear regression model can be represented as a linear combination of features to represent a label. It is like a line with an slope ans intercep(bias).\n",
    "\n",
    "y = a*x + b\n",
    "\n",
    "In general, we can consider an hiperplane of n dimensions:\n",
    "\n",
    "Y_pred = a1x1 +a2X2 + ... + an*Xn + b0\n",
    "\n",
    "Where:\n",
    "\n",
    "ai are the weights\n",
    "Xi are the features\n",
    "b0 is the bias.\n",
    "In matriz format:\n",
    "\n",
    "Y = A dot X\n",
    "\n",
    "About the weigths, there are 2 concepts:\n",
    "\n",
    "Slope is the measue of how steep is the data distributed on the plane.\n",
    "Intercept(Bias) is like a default value of the label when there is no data. The default level of toxity.\n",
    "As"
   ]
  },
  {
   "cell_type": "code",
   "execution_count": null,
   "id": "87c32281-a806-4946-b0b6-396b4d818f79",
   "metadata": {},
   "outputs": [],
   "source": []
  },
  {
   "cell_type": "markdown",
   "id": "70ca0e62-cd76-4acb-8400-bff24e93291a",
   "metadata": {},
   "source": [
    "# Point 2: How to get the weights? How to define the algorithm?\n",
    "\n",
    "A linear regression is a line which wants to fit in the best way all points. In this way, we need to set up an algorithm to find the weigths. There are many ways to set up this procedure, but here is the general way:\n",
    "\n",
    "A basic algorithm:\n",
    "\n",
    "- Input: points, a dataset of points\n",
    "- Output: a line which passes close to the data,  a model which best fit the data\n",
    "- Procedure:\n",
    "    1. pick a model with random weigth and bias\n",
    "    2. repeat many times: Adjust the weigths and bias to improve predictions\n",
    "    3. return a model\n",
    "    \n",
    "At first look, we can said the weights are between [0.5, 1] and the bias between [3, 9]\n"
   ]
  },
  {
   "cell_type": "code",
   "execution_count": null,
   "id": "f60292ea-5146-4eea-a39e-2d382b8365f1",
   "metadata": {},
   "outputs": [],
   "source": []
  },
  {
   "cell_type": "markdown",
   "id": "3d6e9472-b782-4ac1-95b3-9dbac0866556",
   "metadata": {},
   "source": [
    "# Point 3: How to measure/evaluate if our algorithm is the best? How to get the best weigths?\n",
    "\n",
    "To measure we need to know the diference about real value and predicted value\n",
    "\n",
    "MAE\n",
    "MSE\n",
    "RMSE"
   ]
  },
  {
   "cell_type": "code",
   "execution_count": null,
   "id": "6b673c02-9584-44f4-ba2c-a551ea679d43",
   "metadata": {},
   "outputs": [],
   "source": []
  },
  {
   "cell_type": "markdown",
   "id": "7bb483d6-c6d9-4980-9576-e4e2102333fa",
   "metadata": {},
   "source": [
    "# Point 4: How to optimize the algorithm?\n"
   ]
  },
  {
   "cell_type": "code",
   "execution_count": null,
   "id": "50226fc0-6138-4b7c-8c77-9e5464ce9e87",
   "metadata": {},
   "outputs": [],
   "source": []
  },
  {
   "cell_type": "code",
   "execution_count": null,
   "id": "380226e2-1d5b-4c0a-9c1f-8e3d85b2d7c2",
   "metadata": {},
   "outputs": [],
   "source": []
  },
  {
   "cell_type": "markdown",
   "id": "7bc16a15-a0f7-4a88-8e2f-dd1d98c633d9",
   "metadata": {},
   "source": [
    "# Point 5: How to use the model?"
   ]
  },
  {
   "cell_type": "code",
   "execution_count": null,
   "id": "9efa75b3-1211-43a9-a00d-d0ecf1c53d79",
   "metadata": {},
   "outputs": [],
   "source": []
  },
  {
   "cell_type": "code",
   "execution_count": null,
   "id": "0f588631-a56e-4431-8f21-eeab613b51db",
   "metadata": {},
   "outputs": [],
   "source": []
  }
 ],
 "metadata": {
  "kernelspec": {
   "display_name": "Python 3 (ipykernel)",
   "language": "python",
   "name": "python3"
  },
  "language_info": {
   "codemirror_mode": {
    "name": "ipython",
    "version": 3
   },
   "file_extension": ".py",
   "mimetype": "text/x-python",
   "name": "python",
   "nbconvert_exporter": "python",
   "pygments_lexer": "ipython3",
   "version": "3.9.13"
  }
 },
 "nbformat": 4,
 "nbformat_minor": 5
}
