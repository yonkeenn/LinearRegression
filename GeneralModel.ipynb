{
 "cells": [
  {
   "cell_type": "code",
   "execution_count": 1,
   "id": "75a714c8-b63d-4dd2-9c00-996ad2e9a23a",
   "metadata": {},
   "outputs": [],
   "source": [
    "import pandas as pd\n",
    "import numpy as np\n",
    "\n",
    "import matplotlib.pyplot as plt\n",
    "import seaborn as sns\n",
    "\n",
    "from scipy import stats\n",
    "from scipy.stats import norm, skew, boxcox\n",
    "\n",
    "from sklearn.model_selection import train_test_split, GridSearchCV\n",
    "from sklearn.preprocessing import StandardScaler, RobustScaler\n",
    "from sklearn.linear_model import LinearRegression, Ridge, Lasso, ElasticNet\n",
    "from sklearn import metrics\n",
    "\n",
    "import re\n",
    "\n",
    "#Warning \n",
    "import warnings\n",
    "warnings.filterwarnings('ignore')\n"
   ]
  },
  {
   "cell_type": "code",
   "execution_count": 3,
   "id": "b7ecb5cd-0336-4ab1-ad4a-4ddc91817888",
   "metadata": {},
   "outputs": [
    {
     "data": {
      "text/html": [
       "<div>\n",
       "<style scoped>\n",
       "    .dataframe tbody tr th:only-of-type {\n",
       "        vertical-align: middle;\n",
       "    }\n",
       "\n",
       "    .dataframe tbody tr th {\n",
       "        vertical-align: top;\n",
       "    }\n",
       "\n",
       "    .dataframe thead th {\n",
       "        text-align: right;\n",
       "    }\n",
       "</style>\n",
       "<table border=\"1\" class=\"dataframe\">\n",
       "  <thead>\n",
       "    <tr style=\"text-align: right;\">\n",
       "      <th></th>\n",
       "      <th>mpg</th>\n",
       "      <th>cylinders</th>\n",
       "      <th>displacement</th>\n",
       "      <th>horsepower</th>\n",
       "      <th>weight</th>\n",
       "      <th>acceleration</th>\n",
       "      <th>model</th>\n",
       "      <th>origin</th>\n",
       "      <th>car name</th>\n",
       "    </tr>\n",
       "  </thead>\n",
       "  <tbody>\n",
       "    <tr>\n",
       "      <th>0</th>\n",
       "      <td>18.0</td>\n",
       "      <td>8</td>\n",
       "      <td>307.0</td>\n",
       "      <td>130.0</td>\n",
       "      <td>3504.0</td>\n",
       "      <td>12.0</td>\n",
       "      <td>70</td>\n",
       "      <td>1</td>\n",
       "      <td>\"chevrolet chevelle malibu\"</td>\n",
       "    </tr>\n",
       "    <tr>\n",
       "      <th>1</th>\n",
       "      <td>15.0</td>\n",
       "      <td>8</td>\n",
       "      <td>350.0</td>\n",
       "      <td>165.0</td>\n",
       "      <td>3693.0</td>\n",
       "      <td>11.5</td>\n",
       "      <td>70</td>\n",
       "      <td>1</td>\n",
       "      <td>\"buick skylark 320\"</td>\n",
       "    </tr>\n",
       "    <tr>\n",
       "      <th>2</th>\n",
       "      <td>18.0</td>\n",
       "      <td>8</td>\n",
       "      <td>318.0</td>\n",
       "      <td>150.0</td>\n",
       "      <td>3436.0</td>\n",
       "      <td>11.0</td>\n",
       "      <td>70</td>\n",
       "      <td>1</td>\n",
       "      <td>\"plymouth satellite\"</td>\n",
       "    </tr>\n",
       "    <tr>\n",
       "      <th>3</th>\n",
       "      <td>16.0</td>\n",
       "      <td>8</td>\n",
       "      <td>304.0</td>\n",
       "      <td>150.0</td>\n",
       "      <td>3433.0</td>\n",
       "      <td>12.0</td>\n",
       "      <td>70</td>\n",
       "      <td>1</td>\n",
       "      <td>\"amc rebel sst\"</td>\n",
       "    </tr>\n",
       "    <tr>\n",
       "      <th>4</th>\n",
       "      <td>17.0</td>\n",
       "      <td>8</td>\n",
       "      <td>302.0</td>\n",
       "      <td>140.0</td>\n",
       "      <td>3449.0</td>\n",
       "      <td>10.5</td>\n",
       "      <td>70</td>\n",
       "      <td>1</td>\n",
       "      <td>\"ford torino\"</td>\n",
       "    </tr>\n",
       "  </tbody>\n",
       "</table>\n",
       "</div>"
      ],
      "text/plain": [
       "    mpg  cylinders  displacement  horsepower  weight  acceleration  model  \\\n",
       "0  18.0          8         307.0       130.0  3504.0          12.0     70   \n",
       "1  15.0          8         350.0       165.0  3693.0          11.5     70   \n",
       "2  18.0          8         318.0       150.0  3436.0          11.0     70   \n",
       "3  16.0          8         304.0       150.0  3433.0          12.0     70   \n",
       "4  17.0          8         302.0       140.0  3449.0          10.5     70   \n",
       "\n",
       "   origin                     car name  \n",
       "0       1  \"chevrolet chevelle malibu\"  \n",
       "1       1          \"buick skylark 320\"  \n",
       "2       1         \"plymouth satellite\"  \n",
       "3       1              \"amc rebel sst\"  \n",
       "4       1                \"ford torino\"  "
      ]
     },
     "execution_count": 3,
     "metadata": {},
     "output_type": "execute_result"
    }
   ],
   "source": [
    "df = pd.read_csv('./dataset/df_new.csv')\n",
    "df.head()"
   ]
  },
  {
   "cell_type": "code",
   "execution_count": 4,
   "id": "65d0d02d-b830-447a-8ce1-37353fca07d1",
   "metadata": {},
   "outputs": [
    {
     "data": {
      "text/html": [
       "<div>\n",
       "<style scoped>\n",
       "    .dataframe tbody tr th:only-of-type {\n",
       "        vertical-align: middle;\n",
       "    }\n",
       "\n",
       "    .dataframe tbody tr th {\n",
       "        vertical-align: top;\n",
       "    }\n",
       "\n",
       "    .dataframe thead th {\n",
       "        text-align: right;\n",
       "    }\n",
       "</style>\n",
       "<table border=\"1\" class=\"dataframe\">\n",
       "  <thead>\n",
       "    <tr style=\"text-align: right;\">\n",
       "      <th></th>\n",
       "      <th>mpg</th>\n",
       "      <th>cylinders</th>\n",
       "      <th>displacement</th>\n",
       "      <th>horsepower</th>\n",
       "      <th>weight</th>\n",
       "      <th>acceleration</th>\n",
       "      <th>model</th>\n",
       "      <th>origin</th>\n",
       "      <th>car name</th>\n",
       "    </tr>\n",
       "  </thead>\n",
       "  <tbody>\n",
       "    <tr>\n",
       "      <th>0</th>\n",
       "      <td>18.0</td>\n",
       "      <td>8</td>\n",
       "      <td>307.0</td>\n",
       "      <td>130.0</td>\n",
       "      <td>3504.0</td>\n",
       "      <td>12.0</td>\n",
       "      <td>70</td>\n",
       "      <td>1</td>\n",
       "      <td>\"chevrolet chevelle malibu\"</td>\n",
       "    </tr>\n",
       "    <tr>\n",
       "      <th>1</th>\n",
       "      <td>15.0</td>\n",
       "      <td>8</td>\n",
       "      <td>350.0</td>\n",
       "      <td>165.0</td>\n",
       "      <td>3693.0</td>\n",
       "      <td>11.5</td>\n",
       "      <td>70</td>\n",
       "      <td>1</td>\n",
       "      <td>\"buick skylark 320\"</td>\n",
       "    </tr>\n",
       "    <tr>\n",
       "      <th>2</th>\n",
       "      <td>18.0</td>\n",
       "      <td>8</td>\n",
       "      <td>318.0</td>\n",
       "      <td>150.0</td>\n",
       "      <td>3436.0</td>\n",
       "      <td>11.0</td>\n",
       "      <td>70</td>\n",
       "      <td>1</td>\n",
       "      <td>\"plymouth satellite\"</td>\n",
       "    </tr>\n",
       "    <tr>\n",
       "      <th>3</th>\n",
       "      <td>16.0</td>\n",
       "      <td>8</td>\n",
       "      <td>304.0</td>\n",
       "      <td>150.0</td>\n",
       "      <td>3433.0</td>\n",
       "      <td>12.0</td>\n",
       "      <td>70</td>\n",
       "      <td>1</td>\n",
       "      <td>\"amc rebel sst\"</td>\n",
       "    </tr>\n",
       "    <tr>\n",
       "      <th>4</th>\n",
       "      <td>17.0</td>\n",
       "      <td>8</td>\n",
       "      <td>302.0</td>\n",
       "      <td>140.0</td>\n",
       "      <td>3449.0</td>\n",
       "      <td>10.5</td>\n",
       "      <td>70</td>\n",
       "      <td>1</td>\n",
       "      <td>\"ford torino\"</td>\n",
       "    </tr>\n",
       "  </tbody>\n",
       "</table>\n",
       "</div>"
      ],
      "text/plain": [
       "    mpg  cylinders  displacement  horsepower  weight  acceleration  model  \\\n",
       "0  18.0          8         307.0       130.0  3504.0          12.0     70   \n",
       "1  15.0          8         350.0       165.0  3693.0          11.5     70   \n",
       "2  18.0          8         318.0       150.0  3436.0          11.0     70   \n",
       "3  16.0          8         304.0       150.0  3433.0          12.0     70   \n",
       "4  17.0          8         302.0       140.0  3449.0          10.5     70   \n",
       "\n",
       "   origin                     car name  \n",
       "0       1  \"chevrolet chevelle malibu\"  \n",
       "1       1          \"buick skylark 320\"  \n",
       "2       1         \"plymouth satellite\"  \n",
       "3       1              \"amc rebel sst\"  \n",
       "4       1                \"ford torino\"  "
      ]
     },
     "execution_count": 4,
     "metadata": {},
     "output_type": "execute_result"
    }
   ],
   "source": [
    "df_line = df[df['origin'] == 1].reset_index(drop = True)\n",
    "#df_line['horsepower'].values\n",
    "df_line.head()"
   ]
  },
  {
   "cell_type": "code",
   "execution_count": 5,
   "id": "29a10311-42b9-4d38-b37c-ac0b8407b0cc",
   "metadata": {},
   "outputs": [
    {
     "data": {
      "text/plain": [
       "((236, 9), (188, 9), (47, 9))"
      ]
     },
     "execution_count": 5,
     "metadata": {},
     "output_type": "execute_result"
    }
   ],
   "source": [
    "df_line_train = df_line[0:int(235*0.8)]\n",
    "df_line_test = df_line[int(235*0.8):-1]\n",
    "df_line.shape, df_line_train.shape, df_line_test.shape"
   ]
  },
  {
   "cell_type": "code",
   "execution_count": 15,
   "id": "9c9679b3-a7c4-49d6-8471-122445d78e2f",
   "metadata": {},
   "outputs": [],
   "source": [
    "# Final version\n",
    "# X_train shape: n x d+1, n rows and d+1 columns\n",
    "# Y_train shape: n x 1, n rows and 1 column\n",
    "# theta shape: d+1 x 1, d+1 rows and 1 column\n",
    "# n: number of data\n",
    "# d: number of parameters(weigth and bias)\n",
    "# model, fit, predictions, metrics\n",
    "# X and Y has to be vertical vectors\n",
    "\n",
    "\n",
    "def fit_linear(theta, X, Y, batch_size, update_parameters, tolerance, lr = 0.01, epochs = 100):\n",
    "    n, d = X.shape\n",
    "    #print(X.shape)\n",
    "    model = []\n",
    "    for epoch in range(epochs):\n",
    "        indices = np.random.permutation(n)\n",
    "        #print(indices)\n",
    "        X = X[indices]\n",
    "        Y = Y[indices]\n",
    "        for i in range(0, n, batch_size):\n",
    "            #print(i)\n",
    "            X_batch = X[i:i+batch_size]\n",
    "            Y_batch = Y[i:i+batch_size]\n",
    "            #print(theta)\n",
    "            theta = update_parameters(theta, X_batch, Y_batch, lr)\n",
    "            \n",
    "        #print(\"Theta: \",theta)\n",
    "        model.append(theta)\n",
    "        #model.append({'weight': theta[0], 'bias':theta[1], 'epoch':epoch})\n",
    "        #print(model)\n",
    "        # Tolerance\n",
    "        grad = np.dot(X.T,Y - np.dot(X,theta))/n\n",
    "        if np.linalg.norm(grad) < tolerance:\n",
    "            return model\n",
    "            break\n",
    "    return model\n",
    "\n",
    "def gradient(theta, X, Y, lr):\n",
    "    n,_ = X.shape\n",
    "    #print((lr/n)*np.dot(X.T,Y - np.dot(X,theta)))\n",
    "    theta = theta - (lr/n)*np.dot(X.T,Y - np.dot(X,theta))\n",
    "    #print(\"Theta temp:\", theta)\n",
    "    return theta\n",
    "\n",
    "def closed_solution(X, Y):\n",
    "    theta = np.dot(np.dot(np.linalg.inv(np.dot(X.T, X)), X.T), Y)\n",
    "    return theta\n",
    "    \n",
    "def prediction(theta, X):\n",
    "    Y_pred = np.dot(X, theta)\n",
    "    return Y_pred\n",
    "\n",
    "# Measure Error during Epochs:\n",
    "def AbsoluteError(Y, X, theta):\n",
    "    Y_pred = np.dot(X, theta)\n",
    "    return np.abs(Y - Y_pred)\n",
    "\n",
    "def SquareError(Y, X, theta):\n",
    "    Y_pred = np.dot(X, theta)\n",
    "    return np.abs(np.dot((Y - Y_pred).T, (Y - Y_pred)))\n",
    "\n",
    "def metrics(model, Y, X):\n",
    "    \"\"\"\n",
    "    X: Dataset for test\n",
    "    \"\"\"\n",
    "    error_MAE = []\n",
    "    error_RMSE = []\n",
    "    \n",
    "    epoch = [epoch for epoch in range(len(model))]\n",
    "\n",
    "    for w in range(len(model)):\n",
    "        theta = model[w]        \n",
    "        error_MAE.append(np.take(AbsoluteError(Y, X, theta),0))\n",
    "        error_RMSE.append(np.take(SquareError(Y, X, theta),0))\n",
    "    \n",
    "    MAE = np.sum(error_MAE)/len(X[0])\n",
    "    RMSE = np.sqrt(np.sum(error_RMSE)/(2*len(X[0])))\n",
    "    #print(error_RMSE)\n",
    "    #plt.plot(epoch, error_MAE)\n",
    "    plt.plot(epoch, error_RMSE)\n",
    "    plt.title('Epoch' + ' vs ' + 'Error_RMSE', fontsize = 15)\n",
    "    plt.show()"
   ]
  },
  {
   "cell_type": "code",
   "execution_count": 16,
   "id": "e409e5f3-1d44-4607-8de4-9bc0b29e0a64",
   "metadata": {},
   "outputs": [
    {
     "name": "stdout",
     "output_type": "stream",
     "text": [
      "Shape of X_train:(188, 2), Shape of Y_train:(188, 1), Shape of Theta:(2, 1)\n"
     ]
    }
   ],
   "source": [
    "X_train = np.array([df_line_train['horsepower'].values, np.ones(188)]).T\n",
    "Y_train = np.array([df_line_train['mpg'].values]).T\n",
    "#theta = np.array([np.random.randint(35,40, 2)]).T\n",
    "theta = np.array([[1],[0]])\n",
    "lr = 0.00005\n",
    "batch_size = 1\n",
    "tolerance = 0.00001\n",
    "print(\"Shape of X_train:{}, Shape of Y_train:{}, Shape of Theta:{}\".format(X_train.shape, Y_train.shape, theta.shape))"
   ]
  },
  {
   "cell_type": "code",
   "execution_count": 17,
   "id": "39da5a90-c31d-4f0a-8c38-c1158e2898e0",
   "metadata": {},
   "outputs": [],
   "source": [
    "model = fit_linear(theta, X_train, Y_train, batch_size, gradient, tolerance, lr, epochs = 10)"
   ]
  },
  {
   "cell_type": "code",
   "execution_count": 18,
   "id": "edce7885-4e47-402b-910c-149768d48897",
   "metadata": {},
   "outputs": [
    {
     "data": {
      "image/png": "[encoded data removed]",
      "text/plain": [
       "<Figure size 640x480 with 1 Axes>"
      ]
     },
     "metadata": {},
     "output_type": "display_data"
    }
   ],
   "source": [
    "metrics(model, Y_train, X_train)"
   ]
  },
  {
   "cell_type": "code",
   "execution_count": 19,
   "id": "24cd3c2f-0e5d-42c9-8a85-412ee14ca852",
   "metadata": {},
   "outputs": [
    {
     "data": {
      "text/plain": [
       "(188, 1)"
      ]
     },
     "execution_count": 19,
     "metadata": {},
     "output_type": "execute_result"
    }
   ],
   "source": [
    "Y_pred = prediction(theta, X_train)\n",
    "Y_pred.shape"
   ]
  },
  {
   "cell_type": "code",
   "execution_count": 20,
   "id": "147c7713-91f0-4ce0-aa62-d62060713266",
   "metadata": {},
   "outputs": [
    {
     "data": {
      "text/plain": [
       "array([[-0.10882299],\n",
       "       [31.51334944]])"
      ]
     },
     "execution_count": 20,
     "metadata": {},
     "output_type": "execute_result"
    }
   ],
   "source": [
    "closed_solution(X_train, Y_train)\n",
    "#np.dot(X_train, X_train.T).shape\n",
    "#np.linalg.det(np.dot(X_train, X_train.T))\n",
    "#np.linalg.inv(np.dot(X_train, X_train.T))\n",
    "np.dot(np.dot(np.linalg.inv(np.dot(X_train.T, X_train)), X_train.T), Y_train)"
   ]
  },
  {
   "cell_type": "code",
   "execution_count": 22,
   "id": "ce6378ae-e9f8-4b34-885a-aad3f6a0fa72",
   "metadata": {},
   "outputs": [
    {
     "data": {
      "image/png": "[encoded data removed]",
      "text/plain": [
       "<Figure size 640x480 with 1 Axes>"
      ]
     },
     "metadata": {},
     "output_type": "display_data"
    }
   ],
   "source": [
    "# Here the best parameter which best fit data:\n",
    "plt.scatter(df_line_train['horsepower'], df_line_train['mpg'])\n",
    "x = [float(i) for i in range(236)]\n",
    "#for w in range(0,len(model_lr)):\n",
    "for w in range(183, 184):\n",
    "#for w in np.random.randint(0,len(df_line_train), 6):\n",
    "    y_pred = [31.5 - 0.108*i for i in x]\n",
    "    plt.plot(x, y_pred, color='red')\n",
    "plt.title('Horsepower' + ' vs ' + 'MPG', fontsize = 15)\n",
    "plt.xlabel('horsepower')\n",
    "plt.ylabel('mpg')\n",
    "plt.show()\n",
    "plt.show()"
   ]
  },
  {
   "cell_type": "code",
   "execution_count": null,
   "id": "1d0bc436-2512-402c-8486-ae467fb99e34",
   "metadata": {},
   "outputs": [],
   "source": []
  }
 ],
 "metadata": {
  "kernelspec": {
   "display_name": "Python 3 (ipykernel)",
   "language": "python",
   "name": "python3"
  },
  "language_info": {
   "codemirror_mode": {
    "name": "ipython",
    "version": 3
   },
   "file_extension": ".py",
   "mimetype": "text/x-python",
   "name": "python",
   "nbconvert_exporter": "python",
   "pygments_lexer": "ipython3",
   "version": "3.9.13"
  }
 },
 "nbformat": 4,
 "nbformat_minor": 5
}
