{
 "cells": [
  {
   "cell_type": "code",
   "execution_count": 1,
   "id": "75a714c8-b63d-4dd2-9c00-996ad2e9a23a",
   "metadata": {},
   "outputs": [],
   "source": [
    "import pandas as pd\n",
    "import numpy as np\n",
    "\n",
    "import matplotlib.pyplot as plt\n",
    "import seaborn as sns\n",
    "\n",
    "from scipy import stats\n",
    "from scipy.stats import norm, skew, boxcox\n",
    "\n",
    "from sklearn.model_selection import train_test_split, GridSearchCV\n",
    "from sklearn.preprocessing import StandardScaler, RobustScaler\n",
    "from sklearn.linear_model import LinearRegression, Ridge, Lasso, ElasticNet\n",
    "from sklearn import metrics\n",
    "\n",
    "import re\n",
    "\n",
    "#Warning \n",
    "import warnings\n",
    "warnings.filterwarnings('ignore')\n"
   ]
  },
  {
   "cell_type": "code",
   "execution_count": 3,
   "id": "b7ecb5cd-0336-4ab1-ad4a-4ddc91817888",
   "metadata": {},
   "outputs": [
    {
     "data": {
      "text/html": [
       "<div>\n",
       "<style scoped>\n",
       "    .dataframe tbody tr th:only-of-type {\n",
       "        vertical-align: middle;\n",
       "    }\n",
       "\n",
       "    .dataframe tbody tr th {\n",
       "        vertical-align: top;\n",
       "    }\n",
       "\n",
       "    .dataframe thead th {\n",
       "        text-align: right;\n",
       "    }\n",
       "</style>\n",
       "<table border=\"1\" class=\"dataframe\">\n",
       "  <thead>\n",
       "    <tr style=\"text-align: right;\">\n",
       "      <th></th>\n",
       "      <th>mpg</th>\n",
       "      <th>cylinders</th>\n",
       "      <th>displacement</th>\n",
       "      <th>horsepower</th>\n",
       "      <th>weight</th>\n",
       "      <th>acceleration</th>\n",
       "      <th>model</th>\n",
       "      <th>origin</th>\n",
       "      <th>car name</th>\n",
       "    </tr>\n",
       "  </thead>\n",
       "  <tbody>\n",
       "    <tr>\n",
       "      <th>0</th>\n",
       "      <td>18.0</td>\n",
       "      <td>8</td>\n",
       "      <td>307.0</td>\n",
       "      <td>130.0</td>\n",
       "      <td>3504.0</td>\n",
       "      <td>12.0</td>\n",
       "      <td>70</td>\n",
       "      <td>1</td>\n",
       "      <td>\"chevrolet chevelle malibu\"</td>\n",
       "    </tr>\n",
       "    <tr>\n",
       "      <th>1</th>\n",
       "      <td>15.0</td>\n",
       "      <td>8</td>\n",
       "      <td>350.0</td>\n",
       "      <td>165.0</td>\n",
       "      <td>3693.0</td>\n",
       "      <td>11.5</td>\n",
       "      <td>70</td>\n",
       "      <td>1</td>\n",
       "      <td>\"buick skylark 320\"</td>\n",
       "    </tr>\n",
       "    <tr>\n",
       "      <th>2</th>\n",
       "      <td>18.0</td>\n",
       "      <td>8</td>\n",
       "      <td>318.0</td>\n",
       "      <td>150.0</td>\n",
       "      <td>3436.0</td>\n",
       "      <td>11.0</td>\n",
       "      <td>70</td>\n",
       "      <td>1</td>\n",
       "      <td>\"plymouth satellite\"</td>\n",
       "    </tr>\n",
       "    <tr>\n",
       "      <th>3</th>\n",
       "      <td>16.0</td>\n",
       "      <td>8</td>\n",
       "      <td>304.0</td>\n",
       "      <td>150.0</td>\n",
       "      <td>3433.0</td>\n",
       "      <td>12.0</td>\n",
       "      <td>70</td>\n",
       "      <td>1</td>\n",
       "      <td>\"amc rebel sst\"</td>\n",
       "    </tr>\n",
       "    <tr>\n",
       "      <th>4</th>\n",
       "      <td>17.0</td>\n",
       "      <td>8</td>\n",
       "      <td>302.0</td>\n",
       "      <td>140.0</td>\n",
       "      <td>3449.0</td>\n",
       "      <td>10.5</td>\n",
       "      <td>70</td>\n",
       "      <td>1</td>\n",
       "      <td>\"ford torino\"</td>\n",
       "    </tr>\n",
       "  </tbody>\n",
       "</table>\n",
       "</div>"
      ],
      "text/plain": [
       "    mpg  cylinders  displacement  horsepower  weight  acceleration  model  \\\n",
       "0  18.0          8         307.0       130.0  3504.0          12.0     70   \n",
       "1  15.0          8         350.0       165.0  3693.0          11.5     70   \n",
       "2  18.0          8         318.0       150.0  3436.0          11.0     70   \n",
       "3  16.0          8         304.0       150.0  3433.0          12.0     70   \n",
       "4  17.0          8         302.0       140.0  3449.0          10.5     70   \n",
       "\n",
       "   origin                     car name  \n",
       "0       1  \"chevrolet chevelle malibu\"  \n",
       "1       1          \"buick skylark 320\"  \n",
       "2       1         \"plymouth satellite\"  \n",
       "3       1              \"amc rebel sst\"  \n",
       "4       1                \"ford torino\"  "
      ]
     },
     "execution_count": 3,
     "metadata": {},
     "output_type": "execute_result"
    }
   ],
   "source": [
    "df = pd.read_csv('./dataset/df_new.csv')\n",
    "df.head()"
   ]
  },
  {
   "cell_type": "code",
   "execution_count": 4,
   "id": "65d0d02d-b830-447a-8ce1-37353fca07d1",
   "metadata": {},
   "outputs": [
    {
     "data": {
      "text/html": [
       "<div>\n",
       "<style scoped>\n",
       "    .dataframe tbody tr th:only-of-type {\n",
       "        vertical-align: middle;\n",
       "    }\n",
       "\n",
       "    .dataframe tbody tr th {\n",
       "        vertical-align: top;\n",
       "    }\n",
       "\n",
       "    .dataframe thead th {\n",
       "        text-align: right;\n",
       "    }\n",
       "</style>\n",
       "<table border=\"1\" class=\"dataframe\">\n",
       "  <thead>\n",
       "    <tr style=\"text-align: right;\">\n",
       "      <th></th>\n",
       "      <th>mpg</th>\n",
       "      <th>cylinders</th>\n",
       "      <th>displacement</th>\n",
       "      <th>horsepower</th>\n",
       "      <th>weight</th>\n",
       "      <th>acceleration</th>\n",
       "      <th>model</th>\n",
       "      <th>origin</th>\n",
       "      <th>car name</th>\n",
       "    </tr>\n",
       "  </thead>\n",
       "  <tbody>\n",
       "    <tr>\n",
       "      <th>0</th>\n",
       "      <td>18.0</td>\n",
       "      <td>8</td>\n",
       "      <td>307.0</td>\n",
       "      <td>130.0</td>\n",
       "      <td>3504.0</td>\n",
       "      <td>12.0</td>\n",
       "      <td>70</td>\n",
       "      <td>1</td>\n",
       "      <td>\"chevrolet chevelle malibu\"</td>\n",
       "    </tr>\n",
       "    <tr>\n",
       "      <th>1</th>\n",
       "      <td>15.0</td>\n",
       "      <td>8</td>\n",
       "      <td>350.0</td>\n",
       "      <td>165.0</td>\n",
       "      <td>3693.0</td>\n",
       "      <td>11.5</td>\n",
       "      <td>70</td>\n",
       "      <td>1</td>\n",
       "      <td>\"buick skylark 320\"</td>\n",
       "    </tr>\n",
       "    <tr>\n",
       "      <th>2</th>\n",
       "      <td>18.0</td>\n",
       "      <td>8</td>\n",
       "      <td>318.0</td>\n",
       "      <td>150.0</td>\n",
       "      <td>3436.0</td>\n",
       "      <td>11.0</td>\n",
       "      <td>70</td>\n",
       "      <td>1</td>\n",
       "      <td>\"plymouth satellite\"</td>\n",
       "    </tr>\n",
       "    <tr>\n",
       "      <th>3</th>\n",
       "      <td>16.0</td>\n",
       "      <td>8</td>\n",
       "      <td>304.0</td>\n",
       "      <td>150.0</td>\n",
       "      <td>3433.0</td>\n",
       "      <td>12.0</td>\n",
       "      <td>70</td>\n",
       "      <td>1</td>\n",
       "      <td>\"amc rebel sst\"</td>\n",
       "    </tr>\n",
       "    <tr>\n",
       "      <th>4</th>\n",
       "      <td>17.0</td>\n",
       "      <td>8</td>\n",
       "      <td>302.0</td>\n",
       "      <td>140.0</td>\n",
       "      <td>3449.0</td>\n",
       "      <td>10.5</td>\n",
       "      <td>70</td>\n",
       "      <td>1</td>\n",
       "      <td>\"ford torino\"</td>\n",
       "    </tr>\n",
       "  </tbody>\n",
       "</table>\n",
       "</div>"
      ],
      "text/plain": [
       "    mpg  cylinders  displacement  horsepower  weight  acceleration  model  \\\n",
       "0  18.0          8         307.0       130.0  3504.0          12.0     70   \n",
       "1  15.0          8         350.0       165.0  3693.0          11.5     70   \n",
       "2  18.0          8         318.0       150.0  3436.0          11.0     70   \n",
       "3  16.0          8         304.0       150.0  3433.0          12.0     70   \n",
       "4  17.0          8         302.0       140.0  3449.0          10.5     70   \n",
       "\n",
       "   origin                     car name  \n",
       "0       1  \"chevrolet chevelle malibu\"  \n",
       "1       1          \"buick skylark 320\"  \n",
       "2       1         \"plymouth satellite\"  \n",
       "3       1              \"amc rebel sst\"  \n",
       "4       1                \"ford torino\"  "
      ]
     },
     "execution_count": 4,
     "metadata": {},
     "output_type": "execute_result"
    }
   ],
   "source": [
    "df_line = df[df['origin'] == 1].reset_index(drop = True)\n",
    "#df_line['horsepower'].values\n",
    "df_line.head()"
   ]
  },
  {
   "cell_type": "code",
   "execution_count": 5,
   "id": "29a10311-42b9-4d38-b37c-ac0b8407b0cc",
   "metadata": {},
   "outputs": [
    {
     "data": {
      "text/plain": [
       "((236, 9), (188, 9), (47, 9))"
      ]
     },
     "execution_count": 5,
     "metadata": {},
     "output_type": "execute_result"
    }
   ],
   "source": [
    "df_line_train = df_line[0:int(235*0.8)]\n",
    "df_line_test = df_line[int(235*0.8):-1]\n",
    "df_line.shape, df_line_train.shape, df_line_test.shape"
   ]
  },
  {
   "cell_type": "code",
   "execution_count": 140,
   "id": "9c9679b3-a7c4-49d6-8471-122445d78e2f",
   "metadata": {},
   "outputs": [],
   "source": [
    "# Final version\n",
    "# X_train shape: n x d+1, n rows and d+1 columns\n",
    "# Y_train shape: n x 1, n rows and 1 column\n",
    "# theta shape: d+1 x 1, d+1 rows and 1 column\n",
    "# n: number of data\n",
    "# d: number of parameters(weigth and bias)\n",
    "# model, fit, predictions, metrics\n",
    "# X and Y has to be vertical vectors\n",
    "\n",
    "\n",
    "def fit_linear(theta, X, Y, batch_size, update_parameters, tolerance, lr = 0.01, epochs = 100):\n",
    "    n, d = X.shape\n",
    "    #print(X.shape)\n",
    "    model = []\n",
    "    for epoch in range(epochs):\n",
    "        indices = np.random.permutation(n)\n",
    "        #print(indices)\n",
    "        X = X[indices]\n",
    "        Y = Y[indices]\n",
    "        for i in range(0, n, batch_size):\n",
    "            #print(i)\n",
    "            X_batch = X[i:i+batch_size]\n",
    "            Y_batch = Y[i:i+batch_size]\n",
    "            #print(theta)\n",
    "            theta = update_parameters(theta, X_batch, Y_batch, lr)\n",
    "            \n",
    "        #print(\"Theta: \",theta)\n",
    "        model.append(theta)\n",
    "        #model.append({'weight': theta[0], 'bias':theta[1], 'epoch':epoch})\n",
    "        #print(model)\n",
    "        # Tolerance\n",
    "        grad = np.dot(X.T,Y - np.dot(X,theta))/n\n",
    "        if np.linalg.norm(grad) < tolerance:\n",
    "            return model\n",
    "            break\n",
    "    return model\n",
    "\n",
    "def gradient(theta, X, Y, lr):\n",
    "    n,_ = X.shape\n",
    "    #print((lr/n)*np.dot(X.T,Y - np.dot(X,theta)))\n",
    "    print(X.shape, Y.shape, theta.shape, (Y - np.dot(X,theta)).shape)\n",
    "    theta = theta - (lr/n)*np.dot(X.T,Y - np.dot(X,theta))\n",
    "    #print(\"Theta temp:\", theta)\n",
    "    return theta\n",
    "\n",
    "def closed_solution(X, Y):\n",
    "    theta = np.dot(np.dot(np.linalg.inv(np.dot(X.T, X)), X.T), Y)\n",
    "    return theta\n",
    "    \n",
    "def prediction(theta, X):\n",
    "    Y_pred = np.dot(X, theta)\n",
    "    print(Y_pred.shape)\n",
    "    return Y_pred\n",
    "\n",
    "# Measure Error during Epochs:\n",
    "def AbsoluteError(Y, X, theta):\n",
    "    Y_pred = np.dot(X, theta)\n",
    "    return np.abs(Y - Y_pred)\n",
    "\n",
    "def SquareError(Y, X, theta):\n",
    "    Y_pred = np.dot(X, theta)\n",
    "    return np.dot((Y - Y_pred).T, (Y - Y_pred))\n",
    "\n",
    "def metrics(model, Y, X):\n",
    "    \"\"\"\n",
    "    X: Dataset for test\n",
    "    \"\"\"\n",
    "    error_MAE = []\n",
    "    error_RMSE = []\n",
    "    \n",
    "    epoch = [epoch for epoch in range(len(model))]\n",
    "\n",
    "    for w in range(len(model)):\n",
    "        theta = model[w]        \n",
    "        error_MAE.append(np.take(AbsoluteError(Y, X, theta),0))\n",
    "        error_RMSE.append(np.take(SquareError(Y, X, theta),0))\n",
    "    \n",
    "    MAE = np.sum(error_MAE)/len(X[0])\n",
    "    RMSE = np.sqrt(np.sum(error_RMSE)/(len(X[0])))\n",
    "    #print(error_RMSE)\n",
    "    #plt.plot(epoch, error_MAE)\n",
    "    plt.plot(epoch, error_RMSE)\n",
    "    plt.title('Epoch' + ' vs ' + 'Error_RMSE', fontsize = 15)\n",
    "    plt.show()"
   ]
  },
  {
   "cell_type": "code",
   "execution_count": 141,
   "id": "e409e5f3-1d44-4607-8de4-9bc0b29e0a64",
   "metadata": {},
   "outputs": [
    {
     "name": "stdout",
     "output_type": "stream",
     "text": [
      "Shape of X_train:(188, 2), Shape of Y_train:(188, 1), Shape of Theta:(2, 1)\n"
     ]
    }
   ],
   "source": [
    "X_train = np.array([df_line_train['horsepower'], np.ones(188)]).T\n",
    "Y_train = np.array([df_line_train['mpg']]).T\n",
    "#theta = np.array([np.random.randint(35,40, 2)]).T\n",
    "theta = np.array([[1],[1]])\n",
    "lr = 0.00001\n",
    "batch_size = 32\n",
    "tolerance = 0.00001\n",
    "print(\"Shape of X_train:{}, Shape of Y_train:{}, Shape of Theta:{}\".format(X_train.shape, Y_train.shape, theta.shape))"
   ]
  },
  {
   "cell_type": "code",
   "execution_count": null,
   "id": "39da5a90-c31d-4f0a-8c38-c1158e2898e0",
   "metadata": {},
   "outputs": [],
   "source": [
    "model = fit_linear(theta, X_train, Y_train, batch_size, gradient, tolerance, lr, epochs = 1000)"
   ]
  },
  {
   "cell_type": "code",
   "execution_count": 138,
   "id": "edce7885-4e47-402b-910c-149768d48897",
   "metadata": {},
   "outputs": [
    {
     "data": {
      "image/png": "[encoded data removed]",
      "text/plain": [
       "<Figure size 640x480 with 1 Axes>"
      ]
     },
     "metadata": {},
     "output_type": "display_data"
    }
   ],
   "source": [
    "metrics(model, Y_train, X_train)"
   ]
  },
  {
   "cell_type": "code",
   "execution_count": 139,
   "id": "24cd3c2f-0e5d-42c9-8a85-412ee14ca852",
   "metadata": {},
   "outputs": [
    {
     "name": "stdout",
     "output_type": "stream",
     "text": [
      "(188, 1)\n"
     ]
    },
    {
     "data": {
      "text/plain": [
       "(188, 1)"
      ]
     },
     "execution_count": 139,
     "metadata": {},
     "output_type": "execute_result"
    }
   ],
   "source": [
    "Y_pred = prediction(theta, X_train)\n",
    "Y_pred.shape"
   ]
  },
  {
   "cell_type": "code",
   "execution_count": 20,
   "id": "147c7713-91f0-4ce0-aa62-d62060713266",
   "metadata": {},
   "outputs": [
    {
     "data": {
      "text/plain": [
       "array([[-0.10882299],\n",
       "       [31.51334944]])"
      ]
     },
     "execution_count": 20,
     "metadata": {},
     "output_type": "execute_result"
    }
   ],
   "source": [
    "closed_solution(X_train, Y_train)\n",
    "#np.dot(X_train, X_train.T).shape\n",
    "#np.linalg.det(np.dot(X_train, X_train.T))\n",
    "#np.linalg.inv(np.dot(X_train, X_train.T))\n",
    "np.dot(np.dot(np.linalg.inv(np.dot(X_train.T, X_train)), X_train.T), Y_train)"
   ]
  },
  {
   "cell_type": "code",
   "execution_count": 22,
   "id": "ce6378ae-e9f8-4b34-885a-aad3f6a0fa72",
   "metadata": {},
   "outputs": [
    {
     "data": {
      "image/png": "[encoded data removed]",
      "text/plain": [
       "<Figure size 640x480 with 1 Axes>"
      ]
     },
     "metadata": {},
     "output_type": "display_data"
    }
   ],
   "source": [
    "# Here the best parameter which best fit data:\n",
    "plt.scatter(df_line_train['horsepower'], df_line_train['mpg'])\n",
    "x = [float(i) for i in range(236)]\n",
    "#for w in range(0,len(model_lr)):\n",
    "for w in range(183, 184):\n",
    "#for w in np.random.randint(0,len(df_line_train), 6):\n",
    "    y_pred = [31.5 - 0.108*i for i in x]\n",
    "    plt.plot(x, y_pred, color='red')\n",
    "plt.title('Horsepower' + ' vs ' + 'MPG', fontsize = 15)\n",
    "plt.xlabel('horsepower')\n",
    "plt.ylabel('mpg')\n",
    "plt.show()\n",
    "plt.show()"
   ]
  },
  {
   "cell_type": "code",
   "execution_count": null,
   "id": "25e86194-1bbe-4d30-aaa5-9b9e3ab8f1c8",
   "metadata": {},
   "outputs": [],
   "source": []
  },
  {
   "cell_type": "markdown",
   "id": "87ec794e-e174-4cf3-b587-2f3681e159c8",
   "metadata": {},
   "source": [
    "# Model SGD Instance"
   ]
  },
  {
   "cell_type": "code",
   "execution_count": 153,
   "id": "4ac998d8-6fb8-4cfa-ba5d-3921f616912d",
   "metadata": {},
   "outputs": [],
   "source": [
    "class SGD:\n",
    "    def __init__(self, lr=0.01, max_iter=1000, batch_size=32, tol=1e-3):\n",
    "        # learning rate of the SGD Optimizer\n",
    "        self.learning_rate = lr\n",
    "        # maximum number of iterations for SGD Optimizer\n",
    "        self.max_iteration = max_iter\n",
    "        # mini-batch size of the data\n",
    "        self.batch_size = batch_size \n",
    "        # tolerance for convergence for the theta\n",
    "        self.tolerence_convergence  = tol \n",
    "        # Initialize model parameters to None\n",
    "        self.theta = None \n",
    "         \n",
    "    def fit(self, X, y):\n",
    "        # store dimension of input vector\n",
    "        n, d = X.shape\n",
    "        # Intialize random Theta for every feature\n",
    "        self.theta = np.array(np.random.randn(d))\n",
    "        print(self.theta, self.theta.shape)\n",
    "        for i in range(self.max_iteration):\n",
    "            # Shuffle the data\n",
    "            indices = np.random.permutation(n)\n",
    "            X = X[indices]\n",
    "            y = y[indices]\n",
    "            # Iterate over mini-batches\n",
    "            for i in range(0, n, self.batch_size):\n",
    "                X_batch = X[i:i+self.batch_size]\n",
    "                y_batch = y[i:i+self.batch_size]\n",
    "                print(y_batch.shape)\n",
    "                grad = self.gradient(X_batch, y_batch)\n",
    "                \n",
    "                self.theta -= self.learning_rate * grad\n",
    "            # Check for convergence\n",
    "            if np.linalg.norm(grad) < self.tolerence_convergence:\n",
    "                break\n",
    "    # define a gradient functon for calculating gradient\n",
    "    # of the data\n",
    "    def gradient(self, X, y):\n",
    "        n = len(y)\n",
    "        # predict target value by taking taking\n",
    "        # taking dot product of dependent and theta value\n",
    "        y_pred = np.dot(X.T, self.theta.T)\n",
    "         \n",
    "        # calculate error between predict and actual value\n",
    "        error = y_pred - y\n",
    "        print(y_pred.shape, y.shape, error.shape)\n",
    "        grad = np.dot(X.T, error) / n\n",
    "        return grad\n",
    "     \n",
    "    def predict(self, X):\n",
    "        # prdict y value using calculated theta value\n",
    "        y_pred = np.dot(X, self.theta)\n",
    "        return y_pred"
   ]
  },
  {
   "cell_type": "code",
   "execution_count": 154,
   "id": "5cd95995-91ec-4c06-a6ab-59a30fe285a1",
   "metadata": {},
   "outputs": [
    {
     "name": "stdout",
     "output_type": "stream",
     "text": [
      "[-0.41433641  0.38295169] (2,)\n",
      "(32, 1)\n"
     ]
    },
    {
     "ename": "ValueError",
     "evalue": "shapes (2,32) and (2,) not aligned: 32 (dim 1) != 2 (dim 0)",
     "output_type": "error",
     "traceback": [
      "\u001b[0;31m---------------------------------------------------------------------------\u001b[0m",
      "\u001b[0;31mValueError\u001b[0m                                Traceback (most recent call last)",
      "\u001b[0;32m/tmp/ipykernel_155104/2087963106.py\u001b[0m in \u001b[0;36m<module>\u001b[0;34m\u001b[0m\n\u001b[1;32m      1\u001b[0m \u001b[0;31m# Create an instance of the SGD class\u001b[0m\u001b[0;34m\u001b[0m\u001b[0;34m\u001b[0m\u001b[0m\n\u001b[1;32m      2\u001b[0m \u001b[0mmodel\u001b[0m \u001b[0;34m=\u001b[0m \u001b[0mSGD\u001b[0m\u001b[0;34m(\u001b[0m\u001b[0mlr\u001b[0m\u001b[0;34m=\u001b[0m\u001b[0;36m0.01\u001b[0m\u001b[0;34m,\u001b[0m \u001b[0mmax_iter\u001b[0m\u001b[0;34m=\u001b[0m\u001b[0;36m1000\u001b[0m\u001b[0;34m,\u001b[0m \u001b[0mbatch_size\u001b[0m\u001b[0;34m=\u001b[0m\u001b[0;36m32\u001b[0m\u001b[0;34m,\u001b[0m \u001b[0mtol\u001b[0m\u001b[0;34m=\u001b[0m\u001b[0;36m1e-3\u001b[0m\u001b[0;34m)\u001b[0m\u001b[0;34m\u001b[0m\u001b[0;34m\u001b[0m\u001b[0m\n\u001b[0;32m----> 3\u001b[0;31m \u001b[0mmodel\u001b[0m\u001b[0;34m.\u001b[0m\u001b[0mfit\u001b[0m\u001b[0;34m(\u001b[0m\u001b[0mX_train\u001b[0m\u001b[0;34m,\u001b[0m \u001b[0mY_train\u001b[0m\u001b[0;34m)\u001b[0m\u001b[0;34m\u001b[0m\u001b[0;34m\u001b[0m\u001b[0m\n\u001b[0m\u001b[1;32m      4\u001b[0m \u001b[0;31m# Predict using predict method from model\u001b[0m\u001b[0;34m\u001b[0m\u001b[0;34m\u001b[0m\u001b[0m\n\u001b[1;32m      5\u001b[0m \u001b[0my_pred\u001b[0m \u001b[0;34m=\u001b[0m \u001b[0mmodel\u001b[0m\u001b[0;34m.\u001b[0m\u001b[0mpredict\u001b[0m\u001b[0;34m(\u001b[0m\u001b[0mX\u001b[0m\u001b[0;34m)\u001b[0m\u001b[0;34m\u001b[0m\u001b[0;34m\u001b[0m\u001b[0m\n",
      "\u001b[0;32m/tmp/ipykernel_155104/1334252039.py\u001b[0m in \u001b[0;36mfit\u001b[0;34m(self, X, y)\u001b[0m\n\u001b[1;32m     28\u001b[0m                 \u001b[0my_batch\u001b[0m \u001b[0;34m=\u001b[0m \u001b[0my\u001b[0m\u001b[0;34m[\u001b[0m\u001b[0mi\u001b[0m\u001b[0;34m:\u001b[0m\u001b[0mi\u001b[0m\u001b[0;34m+\u001b[0m\u001b[0mself\u001b[0m\u001b[0;34m.\u001b[0m\u001b[0mbatch_size\u001b[0m\u001b[0;34m]\u001b[0m\u001b[0;34m\u001b[0m\u001b[0;34m\u001b[0m\u001b[0m\n\u001b[1;32m     29\u001b[0m                 \u001b[0mprint\u001b[0m\u001b[0;34m(\u001b[0m\u001b[0my_batch\u001b[0m\u001b[0;34m.\u001b[0m\u001b[0mshape\u001b[0m\u001b[0;34m)\u001b[0m\u001b[0;34m\u001b[0m\u001b[0;34m\u001b[0m\u001b[0m\n\u001b[0;32m---> 30\u001b[0;31m                 \u001b[0mgrad\u001b[0m \u001b[0;34m=\u001b[0m \u001b[0mself\u001b[0m\u001b[0;34m.\u001b[0m\u001b[0mgradient\u001b[0m\u001b[0;34m(\u001b[0m\u001b[0mX_batch\u001b[0m\u001b[0;34m,\u001b[0m \u001b[0my_batch\u001b[0m\u001b[0;34m)\u001b[0m\u001b[0;34m\u001b[0m\u001b[0;34m\u001b[0m\u001b[0m\n\u001b[0m\u001b[1;32m     31\u001b[0m \u001b[0;34m\u001b[0m\u001b[0m\n\u001b[1;32m     32\u001b[0m                 \u001b[0mself\u001b[0m\u001b[0;34m.\u001b[0m\u001b[0mtheta\u001b[0m \u001b[0;34m-=\u001b[0m \u001b[0mself\u001b[0m\u001b[0;34m.\u001b[0m\u001b[0mlearning_rate\u001b[0m \u001b[0;34m*\u001b[0m \u001b[0mgrad\u001b[0m\u001b[0;34m\u001b[0m\u001b[0;34m\u001b[0m\u001b[0m\n",
      "\u001b[0;32m/tmp/ipykernel_155104/1334252039.py\u001b[0m in \u001b[0;36mgradient\u001b[0;34m(self, X, y)\u001b[0m\n\u001b[1;32m     40\u001b[0m         \u001b[0;31m# predict target value by taking taking\u001b[0m\u001b[0;34m\u001b[0m\u001b[0;34m\u001b[0m\u001b[0m\n\u001b[1;32m     41\u001b[0m         \u001b[0;31m# taking dot product of dependent and theta value\u001b[0m\u001b[0;34m\u001b[0m\u001b[0;34m\u001b[0m\u001b[0m\n\u001b[0;32m---> 42\u001b[0;31m         \u001b[0my_pred\u001b[0m \u001b[0;34m=\u001b[0m \u001b[0mnp\u001b[0m\u001b[0;34m.\u001b[0m\u001b[0mdot\u001b[0m\u001b[0;34m(\u001b[0m\u001b[0mX\u001b[0m\u001b[0;34m.\u001b[0m\u001b[0mT\u001b[0m\u001b[0;34m,\u001b[0m \u001b[0mself\u001b[0m\u001b[0;34m.\u001b[0m\u001b[0mtheta\u001b[0m\u001b[0;34m.\u001b[0m\u001b[0mT\u001b[0m\u001b[0;34m)\u001b[0m\u001b[0;34m\u001b[0m\u001b[0;34m\u001b[0m\u001b[0m\n\u001b[0m\u001b[1;32m     43\u001b[0m \u001b[0;34m\u001b[0m\u001b[0m\n\u001b[1;32m     44\u001b[0m         \u001b[0;31m# calculate error between predict and actual value\u001b[0m\u001b[0;34m\u001b[0m\u001b[0;34m\u001b[0m\u001b[0m\n",
      "\u001b[0;32m<__array_function__ internals>\u001b[0m in \u001b[0;36mdot\u001b[0;34m(*args, **kwargs)\u001b[0m\n",
      "\u001b[0;31mValueError\u001b[0m: shapes (2,32) and (2,) not aligned: 32 (dim 1) != 2 (dim 0)"
     ]
    }
   ],
   "source": [
    "# Create an instance of the SGD class\n",
    "model = SGD(lr=0.01, max_iter=1000, batch_size=32, tol=1e-3)\n",
    "model.fit(X_train, Y_train)\n",
    "# Predict using predict method from model\n",
    "y_pred = model.predict(X)"
   ]
  },
  {
   "cell_type": "code",
   "execution_count": null,
   "id": "b7476a5f-f4e8-48c9-96e6-2dc0da6c6d19",
   "metadata": {},
   "outputs": [],
   "source": [
    "# Error is found in the Theta shape, becuase it seems it is a list and not an array. We have to fix it."
   ]
  },
  {
   "cell_type": "code",
   "execution_count": null,
   "id": "78400822-9736-4067-ba34-de9759b3b279",
   "metadata": {},
   "outputs": [],
   "source": []
  }
 ],
 "metadata": {
  "kernelspec": {
   "display_name": "Python 3 (ipykernel)",
   "language": "python",
   "name": "python3"
  },
  "language_info": {
   "codemirror_mode": {
    "name": "ipython",
    "version": 3
   },
   "file_extension": ".py",
   "mimetype": "text/x-python",
   "name": "python",
   "nbconvert_exporter": "python",
   "pygments_lexer": "ipython3",
   "version": "3.9.13"
  }
 },
 "nbformat": 4,
 "nbformat_minor": 5
}
